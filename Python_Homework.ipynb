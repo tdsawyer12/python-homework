{
 "cells": [
  {
   "cell_type": "code",
   "execution_count": 28,
   "metadata": {
    "collapsed": true,
    "deletable": true,
    "editable": true
   },
   "outputs": [],
   "source": [
    "from pathlib import Path\n",
    "import csv"
   ]
  },
  {
   "cell_type": "code",
   "execution_count": 29,
   "metadata": {
    "collapsed": false,
    "deletable": true,
    "editable": true
   },
   "outputs": [],
   "source": [
    "csvpath = Path('C:/Users/Travis Sawyer/OneDrive/Documents/Fintech/asu-tem-fin-pt-06-2020-u-c/Homework/02-Python/Instructions/PyBank/Resources/budget_data.csv')"
   ]
  },
  {
   "cell_type": "code",
   "execution_count": 36,
   "metadata": {
    "collapsed": false,
    "deletable": true,
    "editable": true
   },
   "outputs": [
    {
     "name": "stdout",
     "output_type": "stream",
     "text": [
      "['Date', 'Profit/Losses']\n"
     ]
    }
   ],
   "source": [
    "profit_losses = []\n",
    "dates = []\n",
    "budget_data = {}\n",
    "profit_loss_deltas = []\n",
    "\n",
    "with open(csvpath,'r') as csvfile:\n",
    "    \n",
    "    budget_data = csv.reader(csvfile, delimiter= ',')\n",
    "    \n",
    "    header = next(budget_data)\n",
    "\n",
    "    print(f\"{header}\")\n",
    "\n",
    "    for row in budget_data:\n",
    "        date = row[0]\n",
    "        dates.append(date)\n",
    "        \n",
    "        profit_loss = int(row[1])\n",
    "        profit_losses.append(profit_loss)\n",
    "        \n",
    "        "
   ]
  },
  {
   "cell_type": "code",
   "execution_count": 52,
   "metadata": {
    "collapsed": false,
    "deletable": true,
    "editable": true
   },
   "outputs": [
    {
     "name": "stdout",
     "output_type": "stream",
     "text": [
      "Financial Analysis\n",
      "---------------------------------\n",
      "Total Months:86\n",
      "Total:$38382578\n",
      "Average Change:$7803.476744186047\n",
      "Greatest Increase in Profits:Feb-2012 ($1926159)\n",
      "Greatest Decrease in Profits:Sep-2013 ($-2196167)\n"
     ]
    }
   ],
   "source": [
    "total_months = 0\n",
    "net_total_profit = 0\n",
    "net_total_delta = 0\n",
    "avg_change = 0\n",
    "profit_delta = 0\n",
    "greatest_increase_amount = 0\n",
    "greatest_increase_date = \"\"\n",
    "greatest_decrease_amount = 0\n",
    "greatest_decrease_date = \"\"\n",
    "previous_profit = 0\n",
    "\n",
    "for profit_loss in profit_losses:\n",
    "    \n",
    "    total_months += 1\n",
    "    net_total_profit += profit_loss\n",
    "    \n",
    "    profit_delta = profit_loss - previous_profit\n",
    "    \n",
    "    net_total_delta += profit_delta\n",
    "    \n",
    "    previous_profit = profit_loss\n",
    "    \n",
    "    if greatest_increase_amount == 0:\n",
    "        greatest_decrease_amount = profit_delta\n",
    "        greatest_increase_amount = profit_delta\n",
    "\n",
    "    if greatest_increase_amount < profit_delta:\n",
    "        greatest_increase_amount = profit_delta\n",
    "        greatest_increase_date = dates[total_months - 1]\n",
    "        \n",
    "    if greatest_decrease_amount > profit_delta:\n",
    "        greatest_decrease_amount = profit_delta\n",
    "        greatest_decrease_date = dates[total_months - 1]\n",
    "    \n",
    "        \n",
    "avg_change = net_total_delta/(total_months)\n",
    "        \n",
    "print('Financial Analysis')\n",
    "print('---------------------------------')\n",
    "print(f'Total Months:{total_months}')\n",
    "print(f'Total:${net_total_profit}')\n",
    "print(f'Average Change:${avg_change}')\n",
    "print(f'Greatest Increase in Profits:{greatest_increase_date} (${greatest_increase_amount})')\n",
    "print(f'Greatest Decrease in Profits:{greatest_decrease_date} (${greatest_decrease_amount})')\n"
   ]
  },
  {
   "cell_type": "code",
   "execution_count": null,
   "metadata": {
    "collapsed": true
   },
   "outputs": [],
   "source": []
  }
 ],
 "metadata": {
  "kernelspec": {
   "display_name": "Python 3",
   "language": "python",
   "name": "python3"
  },
  "language_info": {
   "codemirror_mode": {
    "name": "ipython",
    "version": 3
   },
   "file_extension": ".py",
   "mimetype": "text/x-python",
   "name": "python",
   "nbconvert_exporter": "python",
   "pygments_lexer": "ipython3",
   "version": "3.6.0"
  }
 },
 "nbformat": 4,
 "nbformat_minor": 2
}
